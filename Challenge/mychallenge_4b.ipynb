{
 "cells": [
  {
   "cell_type": "markdown",
   "id": "7348df20-d656-44ad-b9f5-4d806f6b180c",
   "metadata": {
    "tags": []
   },
   "source": [
    "<img style=\"float: left;padding: 1em\" src=\"https://raw.githubusercontent.com/gw-odw/odw-2022/main/Tutorials/logo.png\">  \n",
    "\n",
    "# **gw-odw22** | data challenge<br><br>Challenge 4b\n",
    "\n",
    "*coder*: Barone Francesco Pio  |   git@[baronefr](http://github.com/baronefr)\n",
    "<br>MSc in *Physics of Data*, University of Padua, AY 2021/22\n"
   ]
  },
  {
   "cell_type": "markdown",
   "id": "044984a9-210b-4bc3-b955-bbeb79057db5",
   "metadata": {},
   "source": [
    "In this notebook I review the posteriors of the gravitational waves I found in the previous notebook analysis:\n",
    "\n",
    "| H1 time | H1 SNR | H1 mass | L1 time | L1 SNR | L1 mass |\n",
    "| :-: | :-: | :-: | :-: | :-: | :-: |\n",
    "|1204.71| 39.65 | 22 | 1204.74 | 52.58 | 22 |\n",
    "|1638.17| 32.04 | 17 | 1638.18 | 38.06 | 17 |\n",
    "|2483.96| 26.64 | 10 | 2483.96 | 29.61 | 10 |\n",
    "|2995.34| 10.62 | 32 | 2995.34 |  8.83 | 32 |\n",
    "|3319.26| 13.7  | 36 | 3319.25 | 13.94 | 35 |"
   ]
  },
  {
   "cell_type": "code",
   "execution_count": 1,
   "id": "384a4094-60f9-4950-9a05-cc5f82a6d7f9",
   "metadata": {},
   "outputs": [
    {
     "name": "stdout",
     "output_type": "stream",
     "text": [
      "5 gravitational waves to test\n"
     ]
    }
   ],
   "source": [
    "# candidates identified in previous notebook\n",
    "dataset = [ {'id':'gwc1', 't':1204.71, 'm':22 },\n",
    "            {'id':'gwc2', 't':1638.17, 'm':17 },\n",
    "            {'id':'gwc3', 't':2483.96, 'm':10 },\n",
    "            {'id':'gwc4', 't':2995.34, 'm':32 },\n",
    "            {'id':'gwc5', 't':3319.26, 'm':35 } ]\n",
    "print(len(dataset), 'gravitational waves to test')"
   ]
  },
  {
   "cell_type": "code",
   "execution_count": 2,
   "id": "99778e12-6756-4973-8aa9-4c75d9ddcd60",
   "metadata": {},
   "outputs": [],
   "source": [
    "# add chirp mass as info\n",
    "def chirp_mass(m1, m2 = None):\n",
    "    if m2 is None: m2 = m1\n",
    "    return (((m1*m2)**3)/(m1+m2))**(1/5)\n",
    "\n",
    "dataset = [ {**dd, 'mc': round( chirp_mass(dd['m']), 3) } for dd in dataset ]"
   ]
  },
  {
   "cell_type": "markdown",
   "id": "47f02042-8894-40e5-81c6-7054c71f7e0f",
   "metadata": {},
   "source": [
    "### requirements"
   ]
  },
  {
   "cell_type": "code",
   "execution_count": 3,
   "id": "c54027bd-7f01-41b8-97b2-c325ebb800c1",
   "metadata": {
    "Collapsed": "false",
    "colab": {},
    "colab_type": "code",
    "id": "HyRSGt6cygu2"
   },
   "outputs": [],
   "source": [
    "%matplotlib inline\n",
    "from __future__ import division, print_function\n",
    "import numpy as np\n",
    "import matplotlib.pyplot as plt\n",
    "\n",
    "import bilby\n",
    "from bilby.core.prior import Uniform, PowerLaw\n",
    "from bilby.core.prior import Constraint, Cosine, Sine\n",
    "from bilby.gw.conversion import convert_to_lal_binary_black_hole_parameters, generate_all_bbh_parameters\n",
    "\n",
    "from gwpy.timeseries import TimeSeries"
   ]
  },
  {
   "cell_type": "code",
   "execution_count": 4,
   "id": "776c18ee-5a0f-4e4d-9eb3-47d8e750071a",
   "metadata": {},
   "outputs": [],
   "source": [
    "# I/O\n",
    "file_name = 'challenge3.gwf'\n",
    "\n",
    "result_dir = './ch4_posteriors/'\n",
    "bilby_dir = './ch4_bilby/'"
   ]
  },
  {
   "cell_type": "code",
   "execution_count": 5,
   "id": "5f484b89-24ce-4a38-af08-f643acd61aed",
   "metadata": {},
   "outputs": [],
   "source": [
    "# define the function to run the analysis\n",
    "\n",
    "def bayesian_analysis(entry, do_plot=False):\n",
    "    global file_name, bilby_dir\n",
    "    \n",
    "    this_id = entry['id']\n",
    "    time_of_event = entry['t']\n",
    "    chirp_mass = entry['mc']\n",
    "    print('++++++ processing GW', this_id, '++++++')\n",
    "    \n",
    "    \n",
    "    # setup empty interferometers\n",
    "    H1 = bilby.gw.detector.get_empty_interferometer(\"H1\")\n",
    "    L1 = bilby.gw.detector.get_empty_interferometer(\"L1\")\n",
    "    \n",
    "    ## I/O ##\n",
    "    \n",
    "    # signal\n",
    "    post_trigger_duration = 2\n",
    "    duration = 4\n",
    "    analysis_start = time_of_event + post_trigger_duration - duration\n",
    "    print('load data @ t:', analysis_start, analysis_start + duration)\n",
    "    \n",
    "    H1_analysis_data = TimeSeries.read(file_name, 'H1:CHALLENGE3', analysis_start, analysis_start + duration)\n",
    "    L1_analysis_data = TimeSeries.read(file_name, 'L1:CHALLENGE3', analysis_start, analysis_start + duration)\n",
    "    H1.set_strain_data_from_gwpy_timeseries(H1_analysis_data)\n",
    "    L1.set_strain_data_from_gwpy_timeseries(L1_analysis_data)\n",
    "    \n",
    "    # psd\n",
    "    psd_duration = duration * 32\n",
    "    psd_start_time = analysis_start - psd_duration\n",
    "    print('load psd @ t:', psd_start_time, psd_start_time + psd_duration)\n",
    "\n",
    "    H1_psd_data = TimeSeries.read(file_name, 'H1:CHALLENGE3', psd_start_time, psd_start_time + psd_duration)\n",
    "    L1_psd_data = TimeSeries.read(file_name, 'L1:CHALLENGE3', psd_start_time, psd_start_time + psd_duration)\n",
    "    \n",
    "    psd_alpha = 2 * H1.strain_data.roll_off / duration\n",
    "    H1_psd = H1_psd_data.psd(fftlength=duration, overlap=0, window=(\"tukey\", psd_alpha), method=\"median\")\n",
    "    L1_psd = L1_psd_data.psd(fftlength=duration, overlap=0, window=(\"tukey\", psd_alpha), method=\"median\")\n",
    "    \n",
    "    H1.power_spectral_density = bilby.gw.detector.PowerSpectralDensity(\n",
    "                frequency_array=H1_psd.frequencies.value, psd_array=H1_psd.value)\n",
    "    L1.power_spectral_density = bilby.gw.detector.PowerSpectralDensity(\n",
    "                frequency_array=H1_psd.frequencies.value, psd_array=L1_psd.value)\n",
    "    \n",
    "    H1.maximum_frequency = 1024  # avoid artifacts\n",
    "    L1.maximum_frequency = 1024\n",
    "    \n",
    "    if do_plot:\n",
    "        # plot psd, just to check\n",
    "        fig, ax = plt.subplots()\n",
    "        idxs = H1.strain_data.frequency_mask\n",
    "        ax.loglog(H1.strain_data.frequency_array[idxs],\n",
    "              np.abs(H1.strain_data.frequency_domain_strain[idxs]))\n",
    "        ax.loglog(H1.power_spectral_density.frequency_array[idxs],\n",
    "              H1.power_spectral_density.asd_array[idxs])\n",
    "        ax.set_xlabel(\"Frequency [Hz]\")\n",
    "        ax.set_ylabel(\"Strain [strain/$\\sqrt{Hz}$]\")\n",
    "        plt.show()\n",
    "    \n",
    "    \n",
    "    ## SET PRIOR ##\n",
    "    prior = bilby.core.prior.PriorDict()\n",
    "    \n",
    "    prior['mass_ratio'] = Uniform(minimum=0.99, maximum=1.00, name='mass_ratio', latex_label='$q$', unit=None, boundary=None)\n",
    "    prior['chirp_mass'] = Uniform(minimum=int(chirp_mass)-2, maximum=int(chirp_mass)+2, name='chirp_mass', latex_label='$M_c$', unit='$M_{\\\\odot}$', boundary=None)\n",
    "    prior['luminosity_distance'] = Uniform(minimum=100.0, maximum=5000.0, name='luminosity_distance', latex_label='$d_L$', boundary=None)\n",
    "    prior['dec'] = Cosine(minimum=-np.pi/2, maximum=np.pi/2, name='dec', latex_label='$\\\\mathrm{DEC}$', unit=None, boundary=None)\n",
    "    prior['ra'] = Uniform(minimum=0, maximum=2*np.pi, name='ra', latex_label='$\\\\mathrm{RA}$', unit=None, boundary='periodic')\n",
    "    prior['theta_jn'] = Sine(minimum=0, maximum=np.pi, name='theta_jn', latex_label='$\\\\theta_{JN}$', unit=None, boundary=None)\n",
    "    prior['psi'] = Uniform(minimum=0, maximum=np.pi, name='psi', latex_label='$\\\\psi$', unit=None, boundary='periodic')\n",
    "    prior['a_1'] = Uniform(minimum=0, maximum=0.99, name='a_1', latex_label='$a_1$', unit=None, boundary=None)\n",
    "    prior['a_2'] = Uniform(minimum=0, maximum=0.99, name='a_2', latex_label='$a_2$', unit=None, boundary=None)\n",
    "    prior['tilt_1'] = Sine(minimum=0, maximum=np.pi, name='tilt_1', latex_label='$\\\\theta_1$', unit=None, boundary=None)\n",
    "    prior['tilt_2'] = Sine(minimum=0, maximum=np.pi, name='tilt_2', latex_label='$\\\\theta_2$', unit=None, boundary=None)\n",
    "    prior['phi_12'] = Uniform(minimum=0, maximum=2*np.pi, name='phi_12', latex_label='$\\\\Delta\\\\phi$', unit=None, boundary='periodic')\n",
    "    prior['phi_jl'] = Uniform(minimum=0, maximum=2*np.pi, name='phi_jl', latex_label='$\\\\phi_{JL}$', unit=None, boundary='periodic')\n",
    "    prior['time_jitter'] = Uniform(minimum=-0.000244140625, maximum=0.000244140625, name='time_jitter', latex_label='$t_j$', unit=None, boundary='periodic')\n",
    "    prior['phase'] = Uniform(name='phase', minimum=0, maximum=2*np.pi, boundary='periodic')\n",
    "    \n",
    "    #prior['geocent_time'] = Uniform(name=\"geocent_time\", minimum=time_of_event-0.1, maximum=time_of_event+0.1)\n",
    "    prior['geocent_time'] = time_of_event - 2  # correct for padding 2sx\n",
    "    \n",
    "    \n",
    "    # set likelihood & generator\n",
    "    interferometers = [H1, L1]\n",
    "    \n",
    "    waveform_arguments = dict(waveform_approximant='IMRPhenomPv2',\n",
    "                              reference_frequency=100., catch_waveform_errors=True)\n",
    "\n",
    "    waveform_generator = bilby.gw.WaveformGenerator(\n",
    "                frequency_domain_source_model=bilby.gw.source.lal_binary_black_hole,\n",
    "                waveform_arguments=waveform_arguments,\n",
    "                parameter_conversion=convert_to_lal_binary_black_hole_parameters)\n",
    "\n",
    "    likelihood = bilby.gw.likelihood.GravitationalWaveTransient(\n",
    "                interferometers, waveform_generator, priors=prior)\n",
    "    \n",
    "    # run bilby\n",
    "    result = bilby.run_sampler(\n",
    "        likelihood, prior, sampler='dynesty', outdir=bilby_dir, label=this_id,\n",
    "        conversion_function=bilby.gw.conversion.generate_all_bbh_parameters,\n",
    "        sample=\"rwalk\", nact=1, walks=1, nlive=500, dlogz=0.2\n",
    "        )\n",
    "    \n",
    "    return result\n",
    "\n",
    "\n",
    "\n",
    "def unwrap_posterior(res, entry):\n",
    "    global result_dir\n",
    "    \n",
    "    # a log string to print in file\n",
    "    res_log = \" > {} with t = {}, mass = {}, mc = {}\\n\".format(entry['id'], entry['t'], entry['m'], entry['mc']) \n",
    "    \n",
    "    quant = ['H1_optimal_snr','L1_optimal_snr','mass_1','mass_2', 'chirp_mass']\n",
    "    for qq in quant:\n",
    "        tmp = res.posterior[qq].values\n",
    "        lb = np.quantile(tmp, 0.05)\n",
    "        ub = np.quantile(tmp, 0.95)\n",
    "        median = np.quantile(tmp, 0.5)\n",
    "        \n",
    "        log = \"{} = {}, 90% C.I. = [{}, {}]\".format(qq, median, lb, ub)\n",
    "        res_log = res_log + log + '\\n'\n",
    "    \n",
    "    print(res_log)\n",
    "    res_log = res_log + '\\n > run info\\n'\n",
    "    res_log = res_log + \"ln Bayes factor = {} +/- {}\\n\".format( res.log_bayes_factor, res.log_evidence_err)\n",
    "    res_log = res_log + 'nlive =' + str( res.sampler_kwargs[\"nlive\"] ) + '\\n'\n",
    "    res_log = res_log + 'dlogz =' + str( res.sampler_kwargs[\"dlogz\"] ) + '\\n'\n",
    "    res_log = res_log + '\\n>> Priors\\n' + str(res.priors)\n",
    "    \n",
    "    plot_file = \"{}{}_mass.png\".format(result_dir, entry['id'])\n",
    "    parameters = dict(mass_1=entry['m'], mass_2=entry['m'])\n",
    "    res.plot_corner(parameters, filename=plot_file)\n",
    "    print(' +++++++ ')\n",
    "    return res_log"
   ]
  },
  {
   "cell_type": "code",
   "execution_count": 6,
   "id": "528f466d-19ac-4187-a3ba-e06714a42863",
   "metadata": {
    "scrolled": true,
    "tags": []
   },
   "outputs": [
    {
     "name": "stdout",
     "output_type": "stream",
     "text": [
      "++++++ processing GW gwc1 ++++++\n",
      "load data @ t: 1202.71 1206.71\n",
      "load psd @ t: 1074.71 1202.71\n"
     ]
    },
    {
     "name": "stderr",
     "output_type": "stream",
     "text": [
      "11:26 bilby INFO    : Waveform generator initiated with\n",
      "  frequency_domain_source_model: bilby.gw.source.lal_binary_black_hole\n",
      "  time_domain_source_model: None\n",
      "  parameter_conversion: bilby.gw.conversion.convert_to_lal_binary_black_hole_parameters\n",
      "11:26 bilby INFO    : Running for label 'gwc1', output will be saved to './ch4_bilby/'\n",
      "11:26 bilby INFO    : Using lal version 7.1.7\n",
      "11:26 bilby INFO    : Using lal git version Branch: None;Tag: lalsuite-v7.5;Id: bd2ad8ca448e9761e3010e519a656789332ea28a;;Builder: Unknown User <>;Repository status: UNCLEAN: Modified working tree\n",
      "11:26 bilby INFO    : Using lalsimulation version 3.1.2\n",
      "11:26 bilby INFO    : Using lalsimulation git version Branch: None;Tag: lalsuite-v7.5;Id: bd2ad8ca448e9761e3010e519a656789332ea28a;;Builder: Unknown User <>;Repository status: UNCLEAN: Modified working tree\n",
      "11:26 bilby INFO    : Search parameters:\n",
      "11:26 bilby INFO    :   mass_ratio = Uniform(minimum=0.99, maximum=1.0, name='mass_ratio', latex_label='$q$', unit=None, boundary=None)\n",
      "11:26 bilby INFO    :   chirp_mass = Uniform(minimum=17, maximum=21, name='chirp_mass', latex_label='$M_c$', unit='$M_{\\\\odot}$', boundary=None)\n",
      "11:26 bilby INFO    :   luminosity_distance = Uniform(minimum=100.0, maximum=5000.0, name='luminosity_distance', latex_label='$d_L$', unit=None, boundary=None)\n",
      "11:26 bilby INFO    :   dec = Cosine(minimum=-1.5707963267948966, maximum=1.5707963267948966, name='dec', latex_label='$\\\\mathrm{DEC}$', unit=None, boundary=None)\n",
      "11:26 bilby INFO    :   ra = Uniform(minimum=0, maximum=6.283185307179586, name='ra', latex_label='$\\\\mathrm{RA}$', unit=None, boundary='periodic')\n",
      "11:26 bilby INFO    :   theta_jn = Sine(minimum=0, maximum=3.141592653589793, name='theta_jn', latex_label='$\\\\theta_{JN}$', unit=None, boundary=None)\n",
      "11:26 bilby INFO    :   psi = Uniform(minimum=0, maximum=3.141592653589793, name='psi', latex_label='$\\\\psi$', unit=None, boundary='periodic')\n",
      "11:26 bilby INFO    :   a_1 = Uniform(minimum=0, maximum=0.99, name='a_1', latex_label='$a_1$', unit=None, boundary=None)\n",
      "11:26 bilby INFO    :   a_2 = Uniform(minimum=0, maximum=0.99, name='a_2', latex_label='$a_2$', unit=None, boundary=None)\n",
      "11:26 bilby INFO    :   tilt_1 = Sine(minimum=0, maximum=3.141592653589793, name='tilt_1', latex_label='$\\\\theta_1$', unit=None, boundary=None)\n",
      "11:26 bilby INFO    :   tilt_2 = Sine(minimum=0, maximum=3.141592653589793, name='tilt_2', latex_label='$\\\\theta_2$', unit=None, boundary=None)\n",
      "11:26 bilby INFO    :   phi_12 = Uniform(minimum=0, maximum=6.283185307179586, name='phi_12', latex_label='$\\\\Delta\\\\phi$', unit=None, boundary='periodic')\n",
      "11:26 bilby INFO    :   phi_jl = Uniform(minimum=0, maximum=6.283185307179586, name='phi_jl', latex_label='$\\\\phi_{JL}$', unit=None, boundary='periodic')\n",
      "11:26 bilby INFO    :   time_jitter = Uniform(minimum=-0.000244140625, maximum=0.000244140625, name='time_jitter', latex_label='$t_j$', unit=None, boundary='periodic')\n",
      "11:26 bilby INFO    :   phase = Uniform(minimum=0, maximum=6.283185307179586, name='phase', latex_label='$\\\\phi$', unit=None, boundary='periodic')\n",
      "11:26 bilby INFO    :   geocent_time = 1202.71\n",
      "11:26 bilby INFO    : Generating frequency domain strain from given time domain strain.\n",
      "11:26 bilby INFO    : Applying a tukey window with alpha=0.1, roll off=0.2\n",
      "11:26 bilby INFO    : Generating frequency domain strain from given time domain strain.\n",
      "11:26 bilby INFO    : Applying a tukey window with alpha=0.1, roll off=0.2\n",
      "11:26 bilby INFO    : Single likelihood evaluation took 2.035e-03 s\n"
     ]
    },
    {
     "data": {
      "application/vnd.jupyter.widget-view+json": {
       "model_id": "c2b042d02cc941a988d80806071cbba5",
       "version_major": 2,
       "version_minor": 0
      },
      "text/plain": [
       "0it [00:00, ?it/s]"
      ]
     },
     "metadata": {},
     "output_type": "display_data"
    },
    {
     "name": "stderr",
     "output_type": "stream",
     "text": [
      "11:26 bilby INFO    : Using sampler Dynesty with kwargs {'bound': 'multi', 'sample': 'rwalk', 'verbose': True, 'periodic': None, 'reflective': None, 'check_point_delta_t': 1800, 'nlive': 500, 'first_update': None, 'walks': 1, 'npdim': None, 'rstate': None, 'queue_size': 1, 'pool': None, 'use_pool': None, 'live_points': None, 'logl_args': None, 'logl_kwargs': None, 'ptform_args': None, 'ptform_kwargs': None, 'enlarge': 1.5, 'bootstrap': None, 'vol_dec': 0.5, 'vol_check': 8.0, 'facc': 0.2, 'slices': 5, 'update_interval': 300, 'print_func': <bound method Dynesty._print_func of <bilby.core.sampler.dynesty.Dynesty object at 0x7f0cd7cf5430>>, 'dlogz': 0.2, 'maxiter': None, 'maxcall': None, 'logl_max': inf, 'add_live': True, 'print_progress': True, 'save_bounds': False, 'n_effective': None, 'maxmcmc': 5000, 'nact': 1, 'print_method': 'tqdm'}\n",
      "11:26 bilby INFO    : Checkpoint every check_point_delta_t = 600s\n",
      "11:26 bilby INFO    : Using dynesty version 1.0.1\n",
      "11:26 bilby INFO    : Using the bilby-implemented rwalk sample method with ACT estimated walks\n",
      "11:26 bilby INFO    : Resume file ./ch4_bilby//gwc1_resume.pickle does not exist.\n",
      "11:26 bilby INFO    : Generating initial points from the prior\n",
      "11:27 bilby INFO    : Written checkpoint file ./ch4_bilby//gwc1_resume.pickle\n"
     ]
    },
    {
     "name": "stdout",
     "output_type": "stream",
     "text": [
      "\n"
     ]
    },
    {
     "name": "stderr",
     "output_type": "stream",
     "text": [
      "11:27 bilby INFO    : Sampling time: 0:00:53.079915\n",
      "11:27 bilby INFO    : Generating sky frame parameters.\n"
     ]
    },
    {
     "data": {
      "application/vnd.jupyter.widget-view+json": {
       "model_id": "f5ba58d10298446f9dfecbb2ed9f2c0a",
       "version_major": 2,
       "version_minor": 0
      },
      "text/plain": [
       "  0%|          | 0/3891 [00:00<?, ?it/s]"
      ]
     },
     "metadata": {},
     "output_type": "display_data"
    },
    {
     "name": "stderr",
     "output_type": "stream",
     "text": [
      "11:27 bilby INFO    : Computing SNRs for every sample.\n"
     ]
    },
    {
     "data": {
      "application/vnd.jupyter.widget-view+json": {
       "model_id": "c8efae3192614ccb9fae15c05c9aa1ac",
       "version_major": 2,
       "version_minor": 0
      },
      "text/plain": [
       "  0%|          | 0/3891 [00:00<?, ?it/s]"
      ]
     },
     "metadata": {},
     "output_type": "display_data"
    },
    {
     "name": "stderr",
     "output_type": "stream",
     "text": [
      "11:27 bilby INFO    : Summary of results:\n",
      "nsamples: 3891\n",
      "ln_noise_evidence: -10859.965\n",
      "ln_evidence: -10860.851 +/-  0.115\n",
      "ln_bayes_factor: -0.886 +/-  0.115\n",
      "\n"
     ]
    },
    {
     "name": "stdout",
     "output_type": "stream",
     "text": [
      " > gwc1 with t = 1204.71, mass = 22, mc = 19.152\n",
      "H1_optimal_snr = 0.8311221632258049, 90% C.I. = [0.2340428182101106, 1.806780315010955]\n",
      "L1_optimal_snr = 0.9052587779499074, 90% C.I. = [0.23364088929526586, 1.9233891807849006]\n",
      "mass_1 = 21.80358570856756, 90% C.I. = [19.771965309338636, 23.891846203118217]\n",
      "mass_2 = 21.66795577636636, 90% C.I. = [19.674572033985598, 23.777863718852032]\n",
      "chirp_mass = 18.918380360756544, 90% C.I. = [17.171219142935236, 20.75337671178867]\n",
      "\n",
      " +++++++ \n",
      "++++++ processing GW gwc2 ++++++\n",
      "load data @ t: 1636.17 1640.17\n",
      "load psd @ t: 1508.17 1636.17\n"
     ]
    },
    {
     "name": "stderr",
     "output_type": "stream",
     "text": [
      "11:27 bilby INFO    : Waveform generator initiated with\n",
      "  frequency_domain_source_model: bilby.gw.source.lal_binary_black_hole\n",
      "  time_domain_source_model: None\n",
      "  parameter_conversion: bilby.gw.conversion.convert_to_lal_binary_black_hole_parameters\n",
      "11:27 bilby INFO    : Running for label 'gwc2', output will be saved to './ch4_bilby/'\n",
      "11:27 bilby INFO    : Using lal version 7.1.7\n",
      "11:27 bilby INFO    : Using lal git version Branch: None;Tag: lalsuite-v7.5;Id: bd2ad8ca448e9761e3010e519a656789332ea28a;;Builder: Unknown User <>;Repository status: UNCLEAN: Modified working tree\n",
      "11:27 bilby INFO    : Using lalsimulation version 3.1.2\n",
      "11:27 bilby INFO    : Using lalsimulation git version Branch: None;Tag: lalsuite-v7.5;Id: bd2ad8ca448e9761e3010e519a656789332ea28a;;Builder: Unknown User <>;Repository status: UNCLEAN: Modified working tree\n",
      "11:27 bilby INFO    : Search parameters:\n",
      "11:27 bilby INFO    :   mass_ratio = Uniform(minimum=0.99, maximum=1.0, name='mass_ratio', latex_label='$q$', unit=None, boundary=None)\n",
      "11:27 bilby INFO    :   chirp_mass = Uniform(minimum=12, maximum=16, name='chirp_mass', latex_label='$M_c$', unit='$M_{\\\\odot}$', boundary=None)\n",
      "11:27 bilby INFO    :   luminosity_distance = Uniform(minimum=100.0, maximum=5000.0, name='luminosity_distance', latex_label='$d_L$', unit=None, boundary=None)\n",
      "11:27 bilby INFO    :   dec = Cosine(minimum=-1.5707963267948966, maximum=1.5707963267948966, name='dec', latex_label='$\\\\mathrm{DEC}$', unit=None, boundary=None)\n",
      "11:27 bilby INFO    :   ra = Uniform(minimum=0, maximum=6.283185307179586, name='ra', latex_label='$\\\\mathrm{RA}$', unit=None, boundary='periodic')\n",
      "11:27 bilby INFO    :   theta_jn = Sine(minimum=0, maximum=3.141592653589793, name='theta_jn', latex_label='$\\\\theta_{JN}$', unit=None, boundary=None)\n",
      "11:27 bilby INFO    :   psi = Uniform(minimum=0, maximum=3.141592653589793, name='psi', latex_label='$\\\\psi$', unit=None, boundary='periodic')\n",
      "11:27 bilby INFO    :   a_1 = Uniform(minimum=0, maximum=0.99, name='a_1', latex_label='$a_1$', unit=None, boundary=None)\n",
      "11:27 bilby INFO    :   a_2 = Uniform(minimum=0, maximum=0.99, name='a_2', latex_label='$a_2$', unit=None, boundary=None)\n",
      "11:27 bilby INFO    :   tilt_1 = Sine(minimum=0, maximum=3.141592653589793, name='tilt_1', latex_label='$\\\\theta_1$', unit=None, boundary=None)\n",
      "11:27 bilby INFO    :   tilt_2 = Sine(minimum=0, maximum=3.141592653589793, name='tilt_2', latex_label='$\\\\theta_2$', unit=None, boundary=None)\n",
      "11:27 bilby INFO    :   phi_12 = Uniform(minimum=0, maximum=6.283185307179586, name='phi_12', latex_label='$\\\\Delta\\\\phi$', unit=None, boundary='periodic')\n",
      "11:27 bilby INFO    :   phi_jl = Uniform(minimum=0, maximum=6.283185307179586, name='phi_jl', latex_label='$\\\\phi_{JL}$', unit=None, boundary='periodic')\n",
      "11:27 bilby INFO    :   time_jitter = Uniform(minimum=-0.000244140625, maximum=0.000244140625, name='time_jitter', latex_label='$t_j$', unit=None, boundary='periodic')\n",
      "11:27 bilby INFO    :   phase = Uniform(minimum=0, maximum=6.283185307179586, name='phase', latex_label='$\\\\phi$', unit=None, boundary='periodic')\n",
      "11:27 bilby INFO    :   geocent_time = 1636.17\n",
      "11:27 bilby INFO    : Generating frequency domain strain from given time domain strain.\n",
      "11:27 bilby INFO    : Applying a tukey window with alpha=0.1, roll off=0.2\n",
      "11:27 bilby INFO    : Generating frequency domain strain from given time domain strain.\n",
      "11:27 bilby INFO    : Applying a tukey window with alpha=0.1, roll off=0.2\n",
      "11:27 bilby INFO    : Single likelihood evaluation took 2.335e-03 s\n"
     ]
    },
    {
     "data": {
      "application/vnd.jupyter.widget-view+json": {
       "model_id": "8147012aa4114f4d8e01542d34cb1321",
       "version_major": 2,
       "version_minor": 0
      },
      "text/plain": [
       "0it [00:00, ?it/s]"
      ]
     },
     "metadata": {},
     "output_type": "display_data"
    },
    {
     "name": "stderr",
     "output_type": "stream",
     "text": [
      "11:27 bilby INFO    : Using sampler Dynesty with kwargs {'bound': 'multi', 'sample': 'rwalk', 'verbose': True, 'periodic': None, 'reflective': None, 'check_point_delta_t': 1800, 'nlive': 500, 'first_update': None, 'walks': 1, 'npdim': None, 'rstate': None, 'queue_size': 1, 'pool': None, 'use_pool': None, 'live_points': None, 'logl_args': None, 'logl_kwargs': None, 'ptform_args': None, 'ptform_kwargs': None, 'enlarge': 1.5, 'bootstrap': None, 'vol_dec': 0.5, 'vol_check': 8.0, 'facc': 0.2, 'slices': 5, 'update_interval': 300, 'print_func': <bound method Dynesty._print_func of <bilby.core.sampler.dynesty.Dynesty object at 0x7f0ccbc784c0>>, 'dlogz': 0.2, 'maxiter': None, 'maxcall': None, 'logl_max': inf, 'add_live': True, 'print_progress': True, 'save_bounds': False, 'n_effective': None, 'maxmcmc': 5000, 'nact': 1, 'print_method': 'tqdm'}\n",
      "11:27 bilby INFO    : Checkpoint every check_point_delta_t = 600s\n",
      "11:27 bilby INFO    : Using dynesty version 1.0.1\n",
      "11:27 bilby INFO    : Using the bilby-implemented rwalk sample method with ACT estimated walks\n",
      "11:27 bilby INFO    : Resume file ./ch4_bilby//gwc2_resume.pickle does not exist.\n",
      "11:27 bilby INFO    : Generating initial points from the prior\n",
      "11:28 bilby INFO    : Written checkpoint file ./ch4_bilby//gwc2_resume.pickle\n"
     ]
    },
    {
     "name": "stdout",
     "output_type": "stream",
     "text": [
      "\n"
     ]
    },
    {
     "name": "stderr",
     "output_type": "stream",
     "text": [
      "11:28 bilby INFO    : Sampling time: 0:00:53.670157\n",
      "11:28 bilby INFO    : Generating sky frame parameters.\n"
     ]
    },
    {
     "data": {
      "application/vnd.jupyter.widget-view+json": {
       "model_id": "36d814bead7d4f4499fc29b8a177dd90",
       "version_major": 2,
       "version_minor": 0
      },
      "text/plain": [
       "  0%|          | 0/3465 [00:00<?, ?it/s]"
      ]
     },
     "metadata": {},
     "output_type": "display_data"
    },
    {
     "name": "stderr",
     "output_type": "stream",
     "text": [
      "11:28 bilby INFO    : Computing SNRs for every sample.\n"
     ]
    },
    {
     "data": {
      "application/vnd.jupyter.widget-view+json": {
       "model_id": "352f6e0333c841f3ab695cce1b5dd0dd",
       "version_major": 2,
       "version_minor": 0
      },
      "text/plain": [
       "  0%|          | 0/3465 [00:00<?, ?it/s]"
      ]
     },
     "metadata": {},
     "output_type": "display_data"
    },
    {
     "name": "stderr",
     "output_type": "stream",
     "text": [
      "11:28 bilby INFO    : Summary of results:\n",
      "nsamples: 3465\n",
      "ln_noise_evidence: -10171.924\n",
      "ln_evidence: -10172.365 +/-  0.092\n",
      "ln_bayes_factor: -0.441 +/-  0.092\n",
      "\n"
     ]
    },
    {
     "name": "stdout",
     "output_type": "stream",
     "text": [
      " > gwc2 with t = 1638.17, mass = 17, mc = 14.799\n",
      "H1_optimal_snr = 0.7701370361968549, 90% C.I. = [0.20489485439182914, 1.7621118893849357]\n",
      "L1_optimal_snr = 0.9063370051160279, 90% C.I. = [0.2769026552104285, 2.023005233620395]\n",
      "mass_1 = 15.965604677851793, 90% C.I. = [14.06433707256261, 18.148999148073923]\n",
      "mass_2 = 15.88706500059602, 90% C.I. = [13.992852701574444, 18.058427796238778]\n",
      "chirp_mass = 13.86681598643651, 90% C.I. = [12.213024392999788, 15.770172152608817]\n",
      "\n",
      " +++++++ \n",
      "++++++ processing GW gwc3 ++++++\n",
      "load data @ t: 2481.96 2485.96\n",
      "load psd @ t: 2353.96 2481.96\n"
     ]
    },
    {
     "name": "stderr",
     "output_type": "stream",
     "text": [
      "11:29 bilby INFO    : Waveform generator initiated with\n",
      "  frequency_domain_source_model: bilby.gw.source.lal_binary_black_hole\n",
      "  time_domain_source_model: None\n",
      "  parameter_conversion: bilby.gw.conversion.convert_to_lal_binary_black_hole_parameters\n",
      "11:29 bilby INFO    : Running for label 'gwc3', output will be saved to './ch4_bilby/'\n",
      "11:29 bilby INFO    : Using lal version 7.1.7\n",
      "11:29 bilby INFO    : Using lal git version Branch: None;Tag: lalsuite-v7.5;Id: bd2ad8ca448e9761e3010e519a656789332ea28a;;Builder: Unknown User <>;Repository status: UNCLEAN: Modified working tree\n",
      "11:29 bilby INFO    : Using lalsimulation version 3.1.2\n",
      "11:29 bilby INFO    : Using lalsimulation git version Branch: None;Tag: lalsuite-v7.5;Id: bd2ad8ca448e9761e3010e519a656789332ea28a;;Builder: Unknown User <>;Repository status: UNCLEAN: Modified working tree\n",
      "11:29 bilby INFO    : Search parameters:\n",
      "11:29 bilby INFO    :   mass_ratio = Uniform(minimum=0.99, maximum=1.0, name='mass_ratio', latex_label='$q$', unit=None, boundary=None)\n",
      "11:29 bilby INFO    :   chirp_mass = Uniform(minimum=6, maximum=10, name='chirp_mass', latex_label='$M_c$', unit='$M_{\\\\odot}$', boundary=None)\n",
      "11:29 bilby INFO    :   luminosity_distance = Uniform(minimum=100.0, maximum=5000.0, name='luminosity_distance', latex_label='$d_L$', unit=None, boundary=None)\n",
      "11:29 bilby INFO    :   dec = Cosine(minimum=-1.5707963267948966, maximum=1.5707963267948966, name='dec', latex_label='$\\\\mathrm{DEC}$', unit=None, boundary=None)\n",
      "11:29 bilby INFO    :   ra = Uniform(minimum=0, maximum=6.283185307179586, name='ra', latex_label='$\\\\mathrm{RA}$', unit=None, boundary='periodic')\n",
      "11:29 bilby INFO    :   theta_jn = Sine(minimum=0, maximum=3.141592653589793, name='theta_jn', latex_label='$\\\\theta_{JN}$', unit=None, boundary=None)\n",
      "11:29 bilby INFO    :   psi = Uniform(minimum=0, maximum=3.141592653589793, name='psi', latex_label='$\\\\psi$', unit=None, boundary='periodic')\n",
      "11:29 bilby INFO    :   a_1 = Uniform(minimum=0, maximum=0.99, name='a_1', latex_label='$a_1$', unit=None, boundary=None)\n",
      "11:29 bilby INFO    :   a_2 = Uniform(minimum=0, maximum=0.99, name='a_2', latex_label='$a_2$', unit=None, boundary=None)\n",
      "11:29 bilby INFO    :   tilt_1 = Sine(minimum=0, maximum=3.141592653589793, name='tilt_1', latex_label='$\\\\theta_1$', unit=None, boundary=None)\n",
      "11:29 bilby INFO    :   tilt_2 = Sine(minimum=0, maximum=3.141592653589793, name='tilt_2', latex_label='$\\\\theta_2$', unit=None, boundary=None)\n",
      "11:29 bilby INFO    :   phi_12 = Uniform(minimum=0, maximum=6.283185307179586, name='phi_12', latex_label='$\\\\Delta\\\\phi$', unit=None, boundary='periodic')\n",
      "11:29 bilby INFO    :   phi_jl = Uniform(minimum=0, maximum=6.283185307179586, name='phi_jl', latex_label='$\\\\phi_{JL}$', unit=None, boundary='periodic')\n",
      "11:29 bilby INFO    :   time_jitter = Uniform(minimum=-0.000244140625, maximum=0.000244140625, name='time_jitter', latex_label='$t_j$', unit=None, boundary='periodic')\n",
      "11:29 bilby INFO    :   phase = Uniform(minimum=0, maximum=6.283185307179586, name='phase', latex_label='$\\\\phi$', unit=None, boundary='periodic')\n",
      "11:29 bilby INFO    :   geocent_time = 2481.96\n",
      "11:29 bilby INFO    : Generating frequency domain strain from given time domain strain.\n",
      "11:29 bilby INFO    : Applying a tukey window with alpha=0.1, roll off=0.2\n",
      "11:29 bilby INFO    : Generating frequency domain strain from given time domain strain.\n",
      "11:29 bilby INFO    : Applying a tukey window with alpha=0.1, roll off=0.2\n",
      "11:29 bilby INFO    : Single likelihood evaluation took 2.833e-03 s\n"
     ]
    },
    {
     "data": {
      "application/vnd.jupyter.widget-view+json": {
       "model_id": "d51540f095c2416f8baafd14849aa918",
       "version_major": 2,
       "version_minor": 0
      },
      "text/plain": [
       "0it [00:00, ?it/s]"
      ]
     },
     "metadata": {},
     "output_type": "display_data"
    },
    {
     "name": "stderr",
     "output_type": "stream",
     "text": [
      "11:29 bilby INFO    : Using sampler Dynesty with kwargs {'bound': 'multi', 'sample': 'rwalk', 'verbose': True, 'periodic': None, 'reflective': None, 'check_point_delta_t': 1800, 'nlive': 500, 'first_update': None, 'walks': 1, 'npdim': None, 'rstate': None, 'queue_size': 1, 'pool': None, 'use_pool': None, 'live_points': None, 'logl_args': None, 'logl_kwargs': None, 'ptform_args': None, 'ptform_kwargs': None, 'enlarge': 1.5, 'bootstrap': None, 'vol_dec': 0.5, 'vol_check': 8.0, 'facc': 0.2, 'slices': 5, 'update_interval': 300, 'print_func': <bound method Dynesty._print_func of <bilby.core.sampler.dynesty.Dynesty object at 0x7f0cc90d4790>>, 'dlogz': 0.2, 'maxiter': None, 'maxcall': None, 'logl_max': inf, 'add_live': True, 'print_progress': True, 'save_bounds': False, 'n_effective': None, 'maxmcmc': 5000, 'nact': 1, 'print_method': 'tqdm'}\n",
      "11:29 bilby INFO    : Checkpoint every check_point_delta_t = 600s\n",
      "11:29 bilby INFO    : Using dynesty version 1.0.1\n",
      "11:29 bilby INFO    : Using the bilby-implemented rwalk sample method with ACT estimated walks\n",
      "11:29 bilby INFO    : Resume file ./ch4_bilby//gwc3_resume.pickle does not exist.\n",
      "11:29 bilby INFO    : Generating initial points from the prior\n",
      "11:30 bilby INFO    : Written checkpoint file ./ch4_bilby//gwc3_resume.pickle\n"
     ]
    },
    {
     "name": "stdout",
     "output_type": "stream",
     "text": [
      "\n"
     ]
    },
    {
     "name": "stderr",
     "output_type": "stream",
     "text": [
      "11:30 bilby INFO    : Sampling time: 0:01:34.444939\n",
      "11:30 bilby INFO    : Generating sky frame parameters.\n"
     ]
    },
    {
     "data": {
      "application/vnd.jupyter.widget-view+json": {
       "model_id": "b7fd4110631340ca96d6d5e8df9c13f8",
       "version_major": 2,
       "version_minor": 0
      },
      "text/plain": [
       "  0%|          | 0/4866 [00:00<?, ?it/s]"
      ]
     },
     "metadata": {},
     "output_type": "display_data"
    },
    {
     "name": "stderr",
     "output_type": "stream",
     "text": [
      "11:30 bilby INFO    : Computing SNRs for every sample.\n"
     ]
    },
    {
     "data": {
      "application/vnd.jupyter.widget-view+json": {
       "model_id": "57390dc2f8924088a1ebbc7a0e8b30b2",
       "version_major": 2,
       "version_minor": 0
      },
      "text/plain": [
       "  0%|          | 0/4866 [00:00<?, ?it/s]"
      ]
     },
     "metadata": {},
     "output_type": "display_data"
    },
    {
     "name": "stderr",
     "output_type": "stream",
     "text": [
      "11:31 bilby INFO    : Summary of results:\n",
      "nsamples: 4866\n",
      "ln_noise_evidence: -9404.327\n",
      "ln_evidence: -9404.779 +/-  0.098\n",
      "ln_bayes_factor: -0.452 +/-  0.098\n",
      "\n"
     ]
    },
    {
     "name": "stdout",
     "output_type": "stream",
     "text": [
      " > gwc3 with t = 2483.96, mass = 10, mc = 8.706\n",
      "H1_optimal_snr = 0.5542191613498667, 90% C.I. = [0.1476100035974916, 1.5813255862014923]\n",
      "L1_optimal_snr = 0.6446890713757123, 90% C.I. = [0.17250212464101244, 1.7781738093939419]\n",
      "mass_1 = 8.778299112860982, 90% C.I. = [7.172664892065102, 11.16979733136188]\n",
      "mass_2 = 8.731392940765543, 90% C.I. = [7.140277435099277, 11.105770602403922]\n",
      "chirp_mass = 7.617759503181015, 90% C.I. = [6.227088460020368, 9.695851268519094]\n",
      "\n",
      " +++++++ \n",
      "++++++ processing GW gwc4 ++++++\n",
      "load data @ t: 2993.34 2997.34\n",
      "load psd @ t: 2865.34 2993.34\n"
     ]
    },
    {
     "name": "stderr",
     "output_type": "stream",
     "text": [
      "11:31 bilby INFO    : Waveform generator initiated with\n",
      "  frequency_domain_source_model: bilby.gw.source.lal_binary_black_hole\n",
      "  time_domain_source_model: None\n",
      "  parameter_conversion: bilby.gw.conversion.convert_to_lal_binary_black_hole_parameters\n",
      "11:31 bilby INFO    : Running for label 'gwc4', output will be saved to './ch4_bilby/'\n",
      "11:31 bilby INFO    : Using lal version 7.1.7\n",
      "11:31 bilby INFO    : Using lal git version Branch: None;Tag: lalsuite-v7.5;Id: bd2ad8ca448e9761e3010e519a656789332ea28a;;Builder: Unknown User <>;Repository status: UNCLEAN: Modified working tree\n",
      "11:31 bilby INFO    : Using lalsimulation version 3.1.2\n",
      "11:31 bilby INFO    : Using lalsimulation git version Branch: None;Tag: lalsuite-v7.5;Id: bd2ad8ca448e9761e3010e519a656789332ea28a;;Builder: Unknown User <>;Repository status: UNCLEAN: Modified working tree\n",
      "11:31 bilby INFO    : Search parameters:\n",
      "11:31 bilby INFO    :   mass_ratio = Uniform(minimum=0.99, maximum=1.0, name='mass_ratio', latex_label='$q$', unit=None, boundary=None)\n",
      "11:31 bilby INFO    :   chirp_mass = Uniform(minimum=25, maximum=29, name='chirp_mass', latex_label='$M_c$', unit='$M_{\\\\odot}$', boundary=None)\n",
      "11:31 bilby INFO    :   luminosity_distance = Uniform(minimum=100.0, maximum=5000.0, name='luminosity_distance', latex_label='$d_L$', unit=None, boundary=None)\n",
      "11:31 bilby INFO    :   dec = Cosine(minimum=-1.5707963267948966, maximum=1.5707963267948966, name='dec', latex_label='$\\\\mathrm{DEC}$', unit=None, boundary=None)\n",
      "11:31 bilby INFO    :   ra = Uniform(minimum=0, maximum=6.283185307179586, name='ra', latex_label='$\\\\mathrm{RA}$', unit=None, boundary='periodic')\n",
      "11:31 bilby INFO    :   theta_jn = Sine(minimum=0, maximum=3.141592653589793, name='theta_jn', latex_label='$\\\\theta_{JN}$', unit=None, boundary=None)\n",
      "11:31 bilby INFO    :   psi = Uniform(minimum=0, maximum=3.141592653589793, name='psi', latex_label='$\\\\psi$', unit=None, boundary='periodic')\n",
      "11:31 bilby INFO    :   a_1 = Uniform(minimum=0, maximum=0.99, name='a_1', latex_label='$a_1$', unit=None, boundary=None)\n",
      "11:31 bilby INFO    :   a_2 = Uniform(minimum=0, maximum=0.99, name='a_2', latex_label='$a_2$', unit=None, boundary=None)\n",
      "11:31 bilby INFO    :   tilt_1 = Sine(minimum=0, maximum=3.141592653589793, name='tilt_1', latex_label='$\\\\theta_1$', unit=None, boundary=None)\n",
      "11:31 bilby INFO    :   tilt_2 = Sine(minimum=0, maximum=3.141592653589793, name='tilt_2', latex_label='$\\\\theta_2$', unit=None, boundary=None)\n",
      "11:31 bilby INFO    :   phi_12 = Uniform(minimum=0, maximum=6.283185307179586, name='phi_12', latex_label='$\\\\Delta\\\\phi$', unit=None, boundary='periodic')\n",
      "11:31 bilby INFO    :   phi_jl = Uniform(minimum=0, maximum=6.283185307179586, name='phi_jl', latex_label='$\\\\phi_{JL}$', unit=None, boundary='periodic')\n",
      "11:31 bilby INFO    :   time_jitter = Uniform(minimum=-0.000244140625, maximum=0.000244140625, name='time_jitter', latex_label='$t_j$', unit=None, boundary='periodic')\n",
      "11:31 bilby INFO    :   phase = Uniform(minimum=0, maximum=6.283185307179586, name='phase', latex_label='$\\\\phi$', unit=None, boundary='periodic')\n",
      "11:31 bilby INFO    :   geocent_time = 2993.34\n",
      "11:31 bilby INFO    : Generating frequency domain strain from given time domain strain.\n",
      "11:31 bilby INFO    : Applying a tukey window with alpha=0.1, roll off=0.2\n",
      "11:31 bilby INFO    : Generating frequency domain strain from given time domain strain.\n",
      "11:31 bilby INFO    : Applying a tukey window with alpha=0.1, roll off=0.2\n",
      "11:31 bilby INFO    : Single likelihood evaluation took 1.815e-03 s\n"
     ]
    },
    {
     "data": {
      "application/vnd.jupyter.widget-view+json": {
       "model_id": "36252df32db34c3aae51825a5718c50e",
       "version_major": 2,
       "version_minor": 0
      },
      "text/plain": [
       "0it [00:00, ?it/s]"
      ]
     },
     "metadata": {},
     "output_type": "display_data"
    },
    {
     "name": "stderr",
     "output_type": "stream",
     "text": [
      "11:31 bilby INFO    : Using sampler Dynesty with kwargs {'bound': 'multi', 'sample': 'rwalk', 'verbose': True, 'periodic': None, 'reflective': None, 'check_point_delta_t': 1800, 'nlive': 500, 'first_update': None, 'walks': 1, 'npdim': None, 'rstate': None, 'queue_size': 1, 'pool': None, 'use_pool': None, 'live_points': None, 'logl_args': None, 'logl_kwargs': None, 'ptform_args': None, 'ptform_kwargs': None, 'enlarge': 1.5, 'bootstrap': None, 'vol_dec': 0.5, 'vol_check': 8.0, 'facc': 0.2, 'slices': 5, 'update_interval': 300, 'print_func': <bound method Dynesty._print_func of <bilby.core.sampler.dynesty.Dynesty object at 0x7f0cc7151490>>, 'dlogz': 0.2, 'maxiter': None, 'maxcall': None, 'logl_max': inf, 'add_live': True, 'print_progress': True, 'save_bounds': False, 'n_effective': None, 'maxmcmc': 5000, 'nact': 1, 'print_method': 'tqdm'}\n",
      "11:31 bilby INFO    : Checkpoint every check_point_delta_t = 600s\n",
      "11:31 bilby INFO    : Using dynesty version 1.0.1\n",
      "11:31 bilby INFO    : Using the bilby-implemented rwalk sample method with ACT estimated walks\n",
      "11:31 bilby INFO    : Resume file ./ch4_bilby//gwc4_resume.pickle does not exist.\n",
      "11:31 bilby INFO    : Generating initial points from the prior\n",
      "11:32 bilby INFO    : Written checkpoint file ./ch4_bilby//gwc4_resume.pickle\n"
     ]
    },
    {
     "name": "stdout",
     "output_type": "stream",
     "text": [
      "\n"
     ]
    },
    {
     "name": "stderr",
     "output_type": "stream",
     "text": [
      "11:32 bilby INFO    : Sampling time: 0:00:41.798734\n",
      "11:32 bilby INFO    : Generating sky frame parameters.\n"
     ]
    },
    {
     "data": {
      "application/vnd.jupyter.widget-view+json": {
       "model_id": "1aac9bf3483a40d5804ff77f1e6d3e6d",
       "version_major": 2,
       "version_minor": 0
      },
      "text/plain": [
       "  0%|          | 0/3483 [00:00<?, ?it/s]"
      ]
     },
     "metadata": {},
     "output_type": "display_data"
    },
    {
     "name": "stderr",
     "output_type": "stream",
     "text": [
      "11:32 bilby INFO    : Computing SNRs for every sample.\n"
     ]
    },
    {
     "data": {
      "application/vnd.jupyter.widget-view+json": {
       "model_id": "70c20be3021b42eb8442927bfe3d6062",
       "version_major": 2,
       "version_minor": 0
      },
      "text/plain": [
       "  0%|          | 0/3483 [00:00<?, ?it/s]"
      ]
     },
     "metadata": {},
     "output_type": "display_data"
    },
    {
     "name": "stderr",
     "output_type": "stream",
     "text": [
      "11:32 bilby INFO    : Summary of results:\n",
      "nsamples: 3483\n",
      "ln_noise_evidence: -8423.454\n",
      "ln_evidence: -8424.501 +/-  0.105\n",
      "ln_bayes_factor: -1.047 +/-  0.105\n",
      "\n"
     ]
    },
    {
     "name": "stdout",
     "output_type": "stream",
     "text": [
      " > gwc4 with t = 2995.34, mass = 32, mc = 27.858\n",
      "H1_optimal_snr = 0.9348995534499313, 90% C.I. = [0.2501390831991439, 1.88775398364122]\n",
      "L1_optimal_snr = 1.1473540901479984, 90% C.I. = [0.35770987526199133, 2.4518411612028848]\n",
      "mass_1 = 30.75296720427653, 90% C.I. = [28.965654341185516, 33.14149044584275]\n",
      "mass_2 = 30.598987210319542, 90% C.I. = [28.823804995085997, 32.95361193125388]\n",
      "chirp_mass = 26.704676040700353, 90% C.I. = [25.15283175590171, 28.781006134770884]\n",
      "\n",
      " +++++++ \n",
      "++++++ processing GW gwc5 ++++++\n",
      "load data @ t: 3317.26 3321.26\n",
      "load psd @ t: 3189.26 3317.26\n"
     ]
    },
    {
     "name": "stderr",
     "output_type": "stream",
     "text": [
      "11:32 bilby INFO    : Waveform generator initiated with\n",
      "  frequency_domain_source_model: bilby.gw.source.lal_binary_black_hole\n",
      "  time_domain_source_model: None\n",
      "  parameter_conversion: bilby.gw.conversion.convert_to_lal_binary_black_hole_parameters\n",
      "11:32 bilby INFO    : Running for label 'gwc5', output will be saved to './ch4_bilby/'\n",
      "11:32 bilby INFO    : Using lal version 7.1.7\n",
      "11:32 bilby INFO    : Using lal git version Branch: None;Tag: lalsuite-v7.5;Id: bd2ad8ca448e9761e3010e519a656789332ea28a;;Builder: Unknown User <>;Repository status: UNCLEAN: Modified working tree\n",
      "11:32 bilby INFO    : Using lalsimulation version 3.1.2\n",
      "11:32 bilby INFO    : Using lalsimulation git version Branch: None;Tag: lalsuite-v7.5;Id: bd2ad8ca448e9761e3010e519a656789332ea28a;;Builder: Unknown User <>;Repository status: UNCLEAN: Modified working tree\n",
      "11:32 bilby INFO    : Search parameters:\n",
      "11:32 bilby INFO    :   mass_ratio = Uniform(minimum=0.99, maximum=1.0, name='mass_ratio', latex_label='$q$', unit=None, boundary=None)\n",
      "11:32 bilby INFO    :   chirp_mass = Uniform(minimum=28, maximum=32, name='chirp_mass', latex_label='$M_c$', unit='$M_{\\\\odot}$', boundary=None)\n",
      "11:32 bilby INFO    :   luminosity_distance = Uniform(minimum=100.0, maximum=5000.0, name='luminosity_distance', latex_label='$d_L$', unit=None, boundary=None)\n",
      "11:32 bilby INFO    :   dec = Cosine(minimum=-1.5707963267948966, maximum=1.5707963267948966, name='dec', latex_label='$\\\\mathrm{DEC}$', unit=None, boundary=None)\n",
      "11:32 bilby INFO    :   ra = Uniform(minimum=0, maximum=6.283185307179586, name='ra', latex_label='$\\\\mathrm{RA}$', unit=None, boundary='periodic')\n",
      "11:32 bilby INFO    :   theta_jn = Sine(minimum=0, maximum=3.141592653589793, name='theta_jn', latex_label='$\\\\theta_{JN}$', unit=None, boundary=None)\n",
      "11:32 bilby INFO    :   psi = Uniform(minimum=0, maximum=3.141592653589793, name='psi', latex_label='$\\\\psi$', unit=None, boundary='periodic')\n",
      "11:32 bilby INFO    :   a_1 = Uniform(minimum=0, maximum=0.99, name='a_1', latex_label='$a_1$', unit=None, boundary=None)\n",
      "11:32 bilby INFO    :   a_2 = Uniform(minimum=0, maximum=0.99, name='a_2', latex_label='$a_2$', unit=None, boundary=None)\n",
      "11:32 bilby INFO    :   tilt_1 = Sine(minimum=0, maximum=3.141592653589793, name='tilt_1', latex_label='$\\\\theta_1$', unit=None, boundary=None)\n",
      "11:32 bilby INFO    :   tilt_2 = Sine(minimum=0, maximum=3.141592653589793, name='tilt_2', latex_label='$\\\\theta_2$', unit=None, boundary=None)\n",
      "11:32 bilby INFO    :   phi_12 = Uniform(minimum=0, maximum=6.283185307179586, name='phi_12', latex_label='$\\\\Delta\\\\phi$', unit=None, boundary='periodic')\n",
      "11:32 bilby INFO    :   phi_jl = Uniform(minimum=0, maximum=6.283185307179586, name='phi_jl', latex_label='$\\\\phi_{JL}$', unit=None, boundary='periodic')\n",
      "11:32 bilby INFO    :   time_jitter = Uniform(minimum=-0.000244140625, maximum=0.000244140625, name='time_jitter', latex_label='$t_j$', unit=None, boundary='periodic')\n",
      "11:32 bilby INFO    :   phase = Uniform(minimum=0, maximum=6.283185307179586, name='phase', latex_label='$\\\\phi$', unit=None, boundary='periodic')\n",
      "11:32 bilby INFO    :   geocent_time = 3317.26\n",
      "11:32 bilby INFO    : Generating frequency domain strain from given time domain strain.\n",
      "11:32 bilby INFO    : Applying a tukey window with alpha=0.1, roll off=0.2\n",
      "11:32 bilby INFO    : Generating frequency domain strain from given time domain strain.\n",
      "11:32 bilby INFO    : Applying a tukey window with alpha=0.1, roll off=0.2\n",
      "11:32 bilby INFO    : Single likelihood evaluation took 1.789e-03 s\n"
     ]
    },
    {
     "data": {
      "application/vnd.jupyter.widget-view+json": {
       "model_id": "f312d00155ea42e8b90e7abf8352cf91",
       "version_major": 2,
       "version_minor": 0
      },
      "text/plain": [
       "0it [00:00, ?it/s]"
      ]
     },
     "metadata": {},
     "output_type": "display_data"
    },
    {
     "name": "stderr",
     "output_type": "stream",
     "text": [
      "11:32 bilby INFO    : Using sampler Dynesty with kwargs {'bound': 'multi', 'sample': 'rwalk', 'verbose': True, 'periodic': None, 'reflective': None, 'check_point_delta_t': 1800, 'nlive': 500, 'first_update': None, 'walks': 1, 'npdim': None, 'rstate': None, 'queue_size': 1, 'pool': None, 'use_pool': None, 'live_points': None, 'logl_args': None, 'logl_kwargs': None, 'ptform_args': None, 'ptform_kwargs': None, 'enlarge': 1.5, 'bootstrap': None, 'vol_dec': 0.5, 'vol_check': 8.0, 'facc': 0.2, 'slices': 5, 'update_interval': 300, 'print_func': <bound method Dynesty._print_func of <bilby.core.sampler.dynesty.Dynesty object at 0x7f0cc6b96190>>, 'dlogz': 0.2, 'maxiter': None, 'maxcall': None, 'logl_max': inf, 'add_live': True, 'print_progress': True, 'save_bounds': False, 'n_effective': None, 'maxmcmc': 5000, 'nact': 1, 'print_method': 'tqdm'}\n",
      "11:32 bilby INFO    : Checkpoint every check_point_delta_t = 600s\n",
      "11:32 bilby INFO    : Using dynesty version 1.0.1\n",
      "11:32 bilby INFO    : Using the bilby-implemented rwalk sample method with ACT estimated walks\n",
      "11:32 bilby INFO    : Resume file ./ch4_bilby//gwc5_resume.pickle does not exist.\n",
      "11:32 bilby INFO    : Generating initial points from the prior\n",
      "11:33 bilby INFO    : Written checkpoint file ./ch4_bilby//gwc5_resume.pickle\n",
      "11:33 bilby INFO    : Sampling time: 0:00:34.850332\n"
     ]
    },
    {
     "name": "stdout",
     "output_type": "stream",
     "text": [
      "\n"
     ]
    },
    {
     "name": "stderr",
     "output_type": "stream",
     "text": [
      "11:33 bilby INFO    : Generating sky frame parameters.\n"
     ]
    },
    {
     "data": {
      "application/vnd.jupyter.widget-view+json": {
       "model_id": "91bb7cb53b15494b9e16f0b3f1114428",
       "version_major": 2,
       "version_minor": 0
      },
      "text/plain": [
       "  0%|          | 0/2855 [00:00<?, ?it/s]"
      ]
     },
     "metadata": {},
     "output_type": "display_data"
    },
    {
     "name": "stderr",
     "output_type": "stream",
     "text": [
      "11:33 bilby INFO    : Computing SNRs for every sample.\n"
     ]
    },
    {
     "data": {
      "application/vnd.jupyter.widget-view+json": {
       "model_id": "2cfeeee3428641b8a24fdebf1994a5f9",
       "version_major": 2,
       "version_minor": 0
      },
      "text/plain": [
       "  0%|          | 0/2855 [00:00<?, ?it/s]"
      ]
     },
     "metadata": {},
     "output_type": "display_data"
    },
    {
     "name": "stderr",
     "output_type": "stream",
     "text": [
      "11:33 bilby INFO    : Summary of results:\n",
      "nsamples: 2855\n",
      "ln_noise_evidence: -8650.247\n",
      "ln_evidence: -8652.007 +/-  0.084\n",
      "ln_bayes_factor: -1.760 +/-  0.084\n",
      "\n"
     ]
    },
    {
     "name": "stdout",
     "output_type": "stream",
     "text": [
      " > gwc5 with t = 3319.26, mass = 35, mc = 30.469\n",
      "H1_optimal_snr = 0.8190834298677511, 90% C.I. = [0.22690847454249294, 1.6937127837140948]\n",
      "L1_optimal_snr = 0.914135948725878, 90% C.I. = [0.25251736180559603, 1.8644273866729468]\n",
      "mass_1 = 34.409109000225875, 90% C.I. = [32.44917775664319, 36.6000665765378]\n",
      "mass_2 = 34.2377691716507, 90% C.I. = [32.2897104582885, 36.426928016747304]\n",
      "chirp_mass = 29.874038370387016, 90% C.I. = [28.171030954008263, 31.773948577071458]\n",
      "\n",
      " +++++++ \n"
     ]
    }
   ],
   "source": [
    "for dd in dataset:\n",
    "    res = bayesian_analysis(dd)\n",
    "    log = unwrap_posterior(res, dd)\n",
    "    log_file = \"{}{}_log.txt\".format(result_dir, dd['id'])\n",
    "    with open(log_file, \"w\") as text_file:\n",
    "        text_file.write(log)"
   ]
  },
  {
   "cell_type": "markdown",
   "id": "a41843d0-d29d-4af6-9cff-e7bc363b8466",
   "metadata": {},
   "source": [
    "Summary of results:\n",
    "\n",
    "| time (H1) | SNR (H1 & L1) | matched filtering mass | posterior mass |\n",
    "| :-: | :-: | :-: | :-: |\n",
    "|1204.71| 39.65, 52.58 | 22 | $$21.8^{+1.61}_{-1.57}$$ |\n",
    "|1638.17| 32.04, 38.06 | 17 | $$15.97^{+1.57}_{-1.41}$$ |\n",
    "|2483.96| 26.64, 29.61 | 10 | $$8.78^{+1.68}_{-1.20}$$ |\n",
    "|2995.34| 10.62,  8.83 | 32 | $$30.75^{+1.62}_{-1.39}$$ |\n",
    "|3319.26| 13.7,  13.94 | 36 | $$34.41^{+1.65}_{-1.53}$$ |"
   ]
  },
  {
   "cell_type": "markdown",
   "id": "b8697e26-aa64-4338-90e1-a86a71b75072",
   "metadata": {},
   "source": [
    "End of file."
   ]
  }
 ],
 "metadata": {
  "kernelspec": {
   "display_name": "Python 3 (ipykernel)",
   "language": "python",
   "name": "python3"
  },
  "language_info": {
   "codemirror_mode": {
    "name": "ipython",
    "version": 3
   },
   "file_extension": ".py",
   "mimetype": "text/x-python",
   "name": "python",
   "nbconvert_exporter": "python",
   "pygments_lexer": "ipython3",
   "version": "3.8.10"
  }
 },
 "nbformat": 4,
 "nbformat_minor": 5
}
